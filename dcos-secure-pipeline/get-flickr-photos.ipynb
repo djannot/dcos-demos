{
 "cells": [
  {
   "cell_type": "code",
   "execution_count": null,
   "metadata": {},
   "outputs": [],
   "source": [
    "import sys\n",
    "!{sys.executable} -m pip install flickrapi confluent_kafka --user"
   ]
  },
  {
   "cell_type": "code",
   "execution_count": null,
   "metadata": {},
   "outputs": [],
   "source": [
    "import flickrapi\n",
    "from confluent_kafka import Producer, KafkaError\n",
    "\n",
    "p = Producer({\n",
    "    'bootstrap.servers': 'kafka-0-broker.demoproddataserviceskafka.autoip.dcos.thisdcos.directory:1025'\n",
    "})\n",
    "\n",
    "flickr = flickrapi.FlickrAPI(\"3b8b1c4cd8b323056b031cfa5f8cf2d7\", \"a87556ccc243b54c\")\n",
    "for photo in flickr.walk(tag_mode='all', tags='cat,dog', extras=\"url_s,url_l\"):\n",
    "    url_s = photo.get(\"url_s\")\n",
    "    url_l = photo.get(\"url_l\")\n",
    "    if(url_s != None and url_l != None):\n",
    "        try:\n",
    "            p.produce(\"photos2\", '{\"url_s\": \"' + url_s + '\", \"url_l\": \"' + url_l + '\"}')\n",
    "        except:\n",
    "            print(\"Can't produce data for a photo, you can ignore this error\")"
   ]
  },
  {
   "cell_type": "code",
   "execution_count": null,
   "metadata": {},
   "outputs": [],
   "source": []
  }
 ],
 "metadata": {
  "kernelspec": {
   "display_name": "Python 3",
   "language": "python",
   "name": "python3"
  },
  "language_info": {
   "codemirror_mode": {
    "name": "ipython",
    "version": 3
   },
   "file_extension": ".py",
   "mimetype": "text/x-python",
   "name": "python",
   "nbconvert_exporter": "python",
   "pygments_lexer": "ipython3",
   "version": "3.6.6"
  }
 },
 "nbformat": 4,
 "nbformat_minor": 2
}

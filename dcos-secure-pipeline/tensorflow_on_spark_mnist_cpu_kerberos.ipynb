{
  "cells": [
    {
      "cell_type": "code",
      "execution_count": null,
      "outputs": [],
      "source": "! rm -rf TensorFlowOnSpark \u0026\u0026 git clone https://github.com/yahoo/TensorFlowOnSpark",
      "metadata": {
        "pycharm": {
          "metadata": false,
          "name": "#%%\n"
        }
      }
    },
    {
      "cell_type": "code",
      "execution_count": null,
      "outputs": [],
      "source": "! rm -rf mnist \u0026\u0026 mkdir mnist",
      "metadata": {
        "pycharm": {
          "metadata": false,
          "name": "#%%\n"
        }
      }
    },
    {
      "cell_type": "code",
      "execution_count": null,
      "outputs": [],
      "source": "! curl -fsSL -O https://infinity-artifacts.s3-us-west-2.amazonaws.com/jupyter/mnist.zip",
      "metadata": {
        "pycharm": {
          "metadata": false,
          "name": "#%%\n"
        }
      }
    },
    {
      "cell_type": "code",
      "execution_count": null,
      "outputs": [],
      "source": "! unzip -d mnist/ mnist.zip",
      "metadata": {
        "pycharm": {
          "metadata": false,
          "name": "#%%\n"
        }
      }
    },
    {
      "cell_type": "code",
      "execution_count": null,
      "outputs": [],
      "source": "! hdfs dfs -ls -R /jupyter/mnist_kerberos \u0026\u0026 hdfs dfs -rm -R /jupyter/mnist_kerberos",
      "metadata": {
        "pycharm": {
          "metadata": false,
          "name": "#%%\n"
        }
      }
    },
    {
      "cell_type": "code",
      "execution_count": null,
      "outputs": [],
      "source": "! spark-submit \\\n  --verbose \\\n  $(pwd)/TensorFlowOnSpark/examples/mnist/mnist_data_setup.py \\\n  --output /jupyter/mnist_kerberos/csv \\\n  --format csv",
      "metadata": {
        "pycharm": {
          "metadata": false,
          "name": "#%%\n"
        }
      }
    },
    {
      "cell_type": "code",
      "execution_count": null,
      "outputs": [],
      "source": "! hdfs dfs -ls -R  /jupyter/mnist_kerberos",
      "metadata": {
        "pycharm": {
          "metadata": false,
          "name": "#%%\n"
        }
      }
    },
    {
      "cell_type": "code",
      "execution_count": null,
      "outputs": [],
      "source": "! spark-submit \\\n  --verbose \\\n  --py-files $(pwd)/TensorFlowOnSpark/examples/mnist/spark/mnist_dist.py \\\n  $(pwd)/TensorFlowOnSpark/examples/mnist/spark/mnist_spark.py \\\n  --cluster_size 4 \\\n  --images /jupyter/mnist_kerberos/csv/train/images \\\n  --labels /jupyter/mnist_kerberos/csv/train/labels \\\n  --format csv \\\n  --mode train \\\n  --model /jupyter/mnist_kerberos/mnist_csv_model",
      "metadata": {
        "pycharm": {
          "metadata": false,
          "name": "#%%\n"
        }
      }
    },
    {
      "cell_type": "code",
      "execution_count": null,
      "outputs": [],
      "source": "! hdfs dfs -ls -R /jupyter/mnist_kerberos/mnist_csv_model\n",
      "metadata": {
        "pycharm": {
          "metadata": false,
          "name": "#%%\n"
        }
      }
    }
  ],
  "metadata": {
    "kernelspec": {
      "display_name": "Python 3",
      "language": "python",
      "name": "python3"
    },
    "language_info": {
      "codemirror_mode": {
        "name": "ipython",
        "version": 3
      },
      "file_extension": ".py",
      "mimetype": "text/x-python",
      "name": "python",
      "nbconvert_exporter": "python",
      "pygments_lexer": "ipython3",
      "version": "3.6.7"
    },
    "stem_cell": {
      "cell_type": "raw",
      "source": "",
      "metadata": {
        "pycharm": {
          "metadata": false
        }
      }
    }
  },
  "nbformat": 4,
  "nbformat_minor": 2
}
